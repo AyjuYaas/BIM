{
 "cells": [
  {
   "cell_type": "code",
   "execution_count": 8,
   "id": "c6cd4590-dcdb-4b6e-b7da-b5f492154eb9",
   "metadata": {},
   "outputs": [
    {
     "name": "stdout",
     "output_type": "stream",
     "text": [
      "Hello World\n"
     ]
    }
   ],
   "source": [
    "#1 Write a Program to display a “Hello World”\n",
    "print(\"Hello World\")"
   ]
  },
  {
   "cell_type": "code",
   "execution_count": 9,
   "id": "ade8b7e7-ecec-4f93-b6e0-d4effa46ba65",
   "metadata": {},
   "outputs": [
    {
     "name": "stdin",
     "output_type": "stream",
     "text": [
      "Enter 1st number:  2\n",
      "Enter 2nd number:  3\n"
     ]
    },
    {
     "name": "stdout",
     "output_type": "stream",
     "text": [
      "Sum = 5\n"
     ]
    }
   ],
   "source": [
    "#3 Write a Program to find the sum of two integers numbers with user input and display the result\n",
    "\n",
    "num1 = int(input(\"Enter 1st number: \"))\n",
    "num2 = int(input(\"Enter 2nd number: \"))\n",
    "\n",
    "print(\"Sum =\", num1 + num2)"
   ]
  },
  {
   "cell_type": "code",
   "execution_count": 10,
   "id": "4bcf588f-49eb-4952-82f0-b165d9120db1",
   "metadata": {},
   "outputs": [
    {
     "name": "stdin",
     "output_type": "stream",
     "text": [
      "Enter principal:  1000\n",
      "Enter time in Years:  2\n",
      "Enter rate:  3\n"
     ]
    },
    {
     "name": "stdout",
     "output_type": "stream",
     "text": [
      "Simple Interest: 60.0\n"
     ]
    }
   ],
   "source": [
    "#4 Write a program to find the simple interest using user input\n",
    "\n",
    "p = float(input(\"Enter principal: \"))\n",
    "t = float(input(\"Enter time in Years: \"))\n",
    "r = float(input(\"Enter rate: \"))\n",
    "\n",
    "si = round( (p*t*r)/100 , 2)\n",
    "\n",
    "print(\"Simple Interest:\", si)"
   ]
  },
  {
   "cell_type": "code",
   "execution_count": 11,
   "id": "957152b0-8d3e-4ba8-9558-590f660136db",
   "metadata": {},
   "outputs": [
    {
     "name": "stdin",
     "output_type": "stream",
     "text": [
      "Enter principal:  1000\n",
      "Enter time in Years:  2\n",
      "Enter rate:  3\n"
     ]
    },
    {
     "name": "stdout",
     "output_type": "stream",
     "text": [
      "Compound Interest:  1060.9\n"
     ]
    }
   ],
   "source": [
    "#5 Write a program to find the Compound interest\n",
    "\n",
    "p = float(input(\"Enter principal: \"))\n",
    "t = float(input(\"Enter time in Years: \"))\n",
    "r = float(input(\"Enter rate: \"))\n",
    "\n",
    "ci = p * ( (1 + r/100) ** t )\n",
    "\n",
    "print(\"Compound Interest: \", round(ci, 2))"
   ]
  },
  {
   "cell_type": "code",
   "execution_count": 12,
   "id": "135a3d54-4d5a-41e8-95d9-302a6b9902c1",
   "metadata": {},
   "outputs": [
    {
     "name": "stdin",
     "output_type": "stream",
     "text": [
      "Enter your Name:  Sayujya\n",
      "Enter Gender:  M\n",
      "Enter your Date of Birth:  2000 Jun 03\n"
     ]
    },
    {
     "name": "stdout",
     "output_type": "stream",
     "text": [
      "\n",
      "Your Name is Sayujya\n",
      "Your Gender is M\n",
      "Your Date of Birth is 2000 Jun 03\n"
     ]
    }
   ],
   "source": [
    "#6 Write a program to print your name,gender,DOB with user input\n",
    "\n",
    "name = input(\"Enter your Name: \")\n",
    "gender = input(\"Enter Gender: \")\n",
    "dob = input(\"Enter your Date of Birth: \")\n",
    "\n",
    "print(\"\\nYour Name is \"+name+\"\\nYour Gender is \"+gender+\"\\nYour Date of Birth is \"+dob)"
   ]
  },
  {
   "cell_type": "code",
   "execution_count": 13,
   "id": "74d00ea6-aa3a-4325-aaaf-3d3c5ef837c4",
   "metadata": {},
   "outputs": [
    {
     "name": "stdin",
     "output_type": "stream",
     "text": [
      "Enter the value of a:  2\n",
      "Enter the value of b:  -4\n",
      "Enter the value of c:  -30\n"
     ]
    },
    {
     "name": "stdout",
     "output_type": "stream",
     "text": [
      "\n",
      "Roots: 5.0 -3.0\n"
     ]
    }
   ],
   "source": [
    "#7 Write a program to find the roots of Quadratic equation. X=-b±√b 2 -4ac/2a. where a,b and c should be a user input\n",
    "import math\n",
    "\n",
    "a = int(input(\"Enter the value of a: \"))\n",
    "b = int(input(\"Enter the value of b: \"))\n",
    "c = int(input(\"Enter the value of c: \"))\n",
    "\n",
    "if( (b**2 - 4*a*c) < 0 ):\n",
    "    print(\"\\nNo Solution\")\n",
    "else:\n",
    "    x1 = (-b + ( math.sqrt(b**2 - 4*a*c) ) )/ (2*a)\n",
    "    x2 = (-b - ( math.sqrt(b**2 - 4*a*c) ) )/ (2*a)\n",
    "    print(\"\\nRoots:\", round(x1,2), round(x2, 2))\n"
   ]
  }
 ],
 "metadata": {
  "kernelspec": {
   "display_name": "Python 3 (ipykernel)",
   "language": "python",
   "name": "python3"
  },
  "language_info": {
   "codemirror_mode": {
    "name": "ipython",
    "version": 3
   },
   "file_extension": ".py",
   "mimetype": "text/x-python",
   "name": "python",
   "nbconvert_exporter": "python",
   "pygments_lexer": "ipython3",
   "version": "3.12.3"
  }
 },
 "nbformat": 4,
 "nbformat_minor": 5
}
