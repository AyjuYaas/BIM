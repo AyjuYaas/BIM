{
 "cells": [
  {
   "cell_type": "markdown",
   "metadata": {},
   "source": [
    "Implementing the perceptron learning algorithm for Logic Gates"
   ]
  },
  {
   "cell_type": "code",
   "execution_count": 5,
   "metadata": {},
   "outputs": [],
   "source": [
    "from sklearn.linear_model import Perceptron"
   ]
  },
  {
   "cell_type": "code",
   "execution_count": 6,
   "metadata": {},
   "outputs": [],
   "source": [
    "# Data for AND gate\n",
    "# Input features: X, Output labels: Y\n",
    "X_and = [[0, 0], [0, 1], [1, 0], [1, 1]]\n",
    "Y_and = [0, 0, 0, 1]  # Output for AND gate\n",
    "\n",
    "# Data for OR gate\n",
    "X_or = [[0, 0], [0, 1], [1, 0], [1, 1]]\n",
    "Y_or = [0, 1, 1, 1]  # Output for OR gate"
   ]
  },
  {
   "cell_type": "code",
   "execution_count": 7,
   "metadata": {},
   "outputs": [],
   "source": [
    "# Train Perceptron for AND gate\n",
    "# Function to train and evaluate Perceptron\n",
    "def train_and_evaluate_perceptron(X, Y, gate_name):\n",
    "    # Train Perceptron\n",
    "    perceptron = Perceptron(max_iter=1000, tol=1e-3, random_state=42)\n",
    "    perceptron.fit(X, Y)\n",
    "    Y_pred = perceptron.predict(X)\n",
    "    \n",
    "    # Evaluate the model\n",
    "    print(f\"\\n{gate_name} Gate\")\n",
    "    print(\"Predictions:\", Y_pred)\n",
    "    \n",
    "    # Return predictions\n",
    "    return Y_pred"
   ]
  },
  {
   "cell_type": "code",
   "execution_count": 8,
   "metadata": {},
   "outputs": [
    {
     "name": "stdout",
     "output_type": "stream",
     "text": [
      "\n",
      "AND Gate\n",
      "Predictions: [0 0 0 1]\n",
      "\n",
      "OR Gate\n",
      "Predictions: [0 1 1 1]\n"
     ]
    }
   ],
   "source": [
    "# Train and evaluate for AND gate\n",
    "Y_and_pred = train_and_evaluate_perceptron(X_and, Y_and, \"AND\")\n",
    "\n",
    "# Train and evaluate for OR gate\n",
    "Y_or_pred = train_and_evaluate_perceptron(X_or, Y_or, \"OR\")"
   ]
  }
 ],
 "metadata": {
  "kernelspec": {
   "display_name": "Python 3",
   "language": "python",
   "name": "python3"
  },
  "language_info": {
   "codemirror_mode": {
    "name": "ipython",
    "version": 3
   },
   "file_extension": ".py",
   "mimetype": "text/x-python",
   "name": "python",
   "nbconvert_exporter": "python",
   "pygments_lexer": "ipython3",
   "version": "3.12.3"
  }
 },
 "nbformat": 4,
 "nbformat_minor": 2
}
